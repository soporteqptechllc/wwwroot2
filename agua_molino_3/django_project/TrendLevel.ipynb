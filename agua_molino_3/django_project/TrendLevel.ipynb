{
 "cells": [
  {
   "cell_type": "code",
   "execution_count": 1,
   "metadata": {},
   "outputs": [],
   "source": [
    "import numpy as np\n",
    "data=[12,34,29,38,34,51,29,34,47,34,55,94,68,81]\n",
    "x=np.arange(0,len(data))    # definicion de eje X\n",
    "y = np.array(data)          # Convierte a la lista en un vector de numpy\n",
    "z = np.polyfit(x,y,1)       # Define el polinomio de aproximacion a la recta.\n"
   ]
  },
  {
   "cell_type": "code",
   "execution_count": 5,
   "metadata": {},
   "outputs": [
    {
     "name": "stdout",
     "output_type": "stream",
     "text": [
      "4.325274725274726x+17.600000000000005\n",
      "4.33\n"
     ]
    }
   ],
   "source": [
    "print(\"{0}x+{1}\".format(*z))\n",
    "print(round(z[0],2))"
   ]
  }
 ],
 "metadata": {
  "kernelspec": {
   "display_name": "Python 3.8.8 ('base')",
   "language": "python",
   "name": "python3"
  },
  "language_info": {
   "codemirror_mode": {
    "name": "ipython",
    "version": 3
   },
   "file_extension": ".py",
   "mimetype": "text/x-python",
   "name": "python",
   "nbconvert_exporter": "python",
   "pygments_lexer": "ipython3",
   "version": "3.8.8"
  },
  "orig_nbformat": 4,
  "vscode": {
   "interpreter": {
    "hash": "ad2bdc8ecc057115af97d19610ffacc2b4e99fae6737bb82f5d7fb13d2f2c186"
   }
  }
 },
 "nbformat": 4,
 "nbformat_minor": 2
}
